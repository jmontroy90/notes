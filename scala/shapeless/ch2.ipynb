{
 "cells": [
  {
   "cell_type": "code",
   "execution_count": null,
   "metadata": {
    "collapsed": false
   },
   "outputs": [],
   "source": [
    "// Chapter 2 of "
   ]
  },
  {
   "cell_type": "code",
   "execution_count": null,
   "metadata": {
    "collapsed": false
   },
   "outputs": [],
   "source": [
    "// traditional way to represent ADTs in Scala = sealed traits + case classes\n",
    "// Case class -> Product (a Person has an age AND gender AND height)\n",
    "// Sealed trait -> Coproduct (a P)\n",
    "\n",
    "sealed trait Person {\n",
    "    val name: String\n",
    "}\n",
    "case class Man(name: String, favepokemon: String) extends Person\n",
    "case class Woman(name: String, favebook: String) extends Person\n",
    "\n",
    "val person: Person = Woman(\"Jess\",\"Franny and Zooey\")\n",
    "\n",
    "person match {\n",
    "    case Man(_,_) => println(\"man!\")\n",
    "    case Woman(_,_) => println(\"woman!\")\n",
    "}\n",
    "\n",
    "// but notice for wire data formats (JSON, Protobuf), these two \"different\" classes are identical\n",
    "// they both serialize down to just strings! Can we treat them more generically?"
   ]
  },
  {
   "cell_type": "code",
   "execution_count": 1,
   "metadata": {
    "collapsed": false
   },
   "outputs": [
    {
     "data": {
      "text/plain": [
       "\u001b[32mimport \u001b[39m\u001b[36m$ivy.$                              , scalaz._, Scalaz._\n",
       "\u001b[39m\n",
       "\u001b[32mimport \u001b[39m\u001b[36m$ivy.$                             , shapeless._\u001b[39m"
      ]
     },
     "execution_count": 1,
     "metadata": {},
     "output_type": "execute_result"
    }
   ],
   "source": [
    "// In steps shapeless. \n",
    "// Treat classes / objects as generic when they need to be, and keep them specific when that's beneficial.\n",
    "\n",
    "// first import. this syntax is specific to Ammonite, so not worth thinking about too much.\n",
    "import $ivy.`org.scalaz::scalaz-core:7.2.7`, scalaz._, Scalaz._\n",
    "import $ivy.`com.chuusai::shapeless:2.3.2`, shapeless._"
   ]
  },
  {
   "cell_type": "code",
   "execution_count": 2,
   "metadata": {
    "collapsed": false
   },
   "outputs": [
    {
     "data": {
      "text/plain": [
       "\u001b[32mimport \u001b[39m\u001b[36mshapeless.{HList, ::, HNil, Generic}\u001b[39m"
      ]
     },
     "execution_count": 2,
     "metadata": {},
     "output_type": "execute_result"
    }
   ],
   "source": [
    "import shapeless.{HList, ::, HNil, Generic}"
   ]
  },
  {
   "cell_type": "code",
   "execution_count": null,
   "metadata": {
    "collapsed": false
   },
   "outputs": [],
   "source": [
    "// let's get generic versions of the above.\n",
    "// start with ADTs, noticing again, for serialization / any more general operation they're identical\n",
    "sealed trait Person {\n",
    "    val name: String\n",
    "}\n",
    "case class Man(name: String, favepokemon: String) extends Person\n",
    "case class Woman(name: String, favebook: String) extends Person\n",
    "\n",
    "// note we don't actually need these, we can just reference directly\n",
    "val manGen = Generic[Man]\n",
    "val womanGen = Generic[Woman]\n",
    "\n",
    "val man1 = Man(\"John\",\"Dugtrio\")\n",
    "val woman1 = Woman(\"Jess\",\"Franny and Zooey\")\n",
    "\n",
    "val man1Repr = manGen.to(man1) // this is the generic representation of Man\n",
    "val womanFromMan = Generic[Woman].from(manGen.to(man1)) // convert Man to Woman by going through their generic repr!\n",
    "\n",
    "println(man1Repr,womanFromMan)"
   ]
  },
  {
   "cell_type": "code",
   "execution_count": 8,
   "metadata": {
    "collapsed": false
   },
   "outputs": [
    {
     "data": {
      "text/plain": [
       "\u001b[32mimport \u001b[39m\u001b[36mshapeless.Generic\n",
       "\u001b[39m\n",
       "\u001b[32mimport \u001b[39m\u001b[36mshapeless.{Coproduct, :+:, CNil, Inl, Inr}\n",
       "\n",
       "\u001b[39m\n",
       "defined \u001b[32mtrait\u001b[39m \u001b[36mShape\u001b[39m\n",
       "defined \u001b[32mclass\u001b[39m \u001b[36mRectangle\u001b[39m\n",
       "defined \u001b[32mclass\u001b[39m \u001b[36mCircle\u001b[39m\n",
       "defined \u001b[32mclass\u001b[39m \u001b[36mRed\u001b[39m\n",
       "defined \u001b[32mclass\u001b[39m \u001b[36mAmber\u001b[39m\n",
       "defined \u001b[32mclass\u001b[39m \u001b[36mGreen\u001b[39m\n",
       "defined \u001b[32mtype\u001b[39m \u001b[36mLight\u001b[39m\n",
       "\u001b[36mred\u001b[39m: \u001b[32mwrapper\u001b[39m.\u001b[32mwrapper\u001b[39m.\u001b[32mLight\u001b[39m = Inl(Red())\n",
       "\u001b[36mgreen\u001b[39m: \u001b[32mwrapper\u001b[39m.\u001b[32mwrapper\u001b[39m.\u001b[32mLight\u001b[39m = Inr(Inl(Amber()))"
      ]
     },
     "execution_count": 8,
     "metadata": {},
     "output_type": "execute_result"
    }
   ],
   "source": [
    "// okay, so we've got Products (case classes here) covered - what about Coproducts i.e. sealed traits?\n",
    "// these are done with a different operator!\n",
    "\n",
    "import shapeless.Generic\n",
    "import shapeless.{Coproduct, :+:, CNil, Inl, Inr}\n",
    "\n",
    "sealed trait Shape\n",
    "final case class Rectangle(width: Double, height: Double) extends Shape\n",
    "final case class Circle(radius: Double) extends Shape\n",
    "\n",
    "// this is enum-like, and introduces a new operator\n",
    "\n",
    "case class Red()\n",
    "case class Amber()\n",
    "case class Green()\n",
    "type Light = Red :+: Amber :+: Green :+: CNil\n",
    "\n",
    "// unpacking these is weird, but it doesn't seem like you'd do it often.\n",
    "val red: Light = Inl(Red())\n",
    "val green: Light = Inr(Inl(Amber()))\n",
    "\n",
    "// this is what it WOULD look like to specify from trait to class, but this code is broken.\n",
    "// val gen = Generic[Shape]\n",
    "// Generic[Shape].to(Rectangle(3.0, 4.0))\n",
    "\n",
    "// just remember the Inl() / Inr() pattern - shapeless uses these as a sort of Either type with Left / Right"
   ]
  },
  {
   "cell_type": "code",
   "execution_count": 6,
   "metadata": {
    "collapsed": false
   },
   "outputs": [
    {
     "data": {
      "text/plain": [
       "\u001b[36mproduct\u001b[39m: \u001b[32mString\u001b[39m \u001b[32m::\u001b[39m \u001b[32mInt\u001b[39m \u001b[32m::\u001b[39m \u001b[32mBoolean\u001b[39m \u001b[32m::\u001b[39m \u001b[32mHNil\u001b[39m = Sunday :: 1 :: false :: HNil"
      ]
     },
     "execution_count": 6,
     "metadata": {},
     "output_type": "execute_result"
    }
   ],
   "source": [
    "// Don't forget HList!\n",
    "\n",
    "val product: String :: Int :: Boolean :: HNil =\n",
    "  \"Sunday\" :: 1 :: false :: HNil"
   ]
  }
 ],
 "metadata": {
  "kernelspec": {
   "display_name": "Scala",
   "language": "scala",
   "name": "scala"
  },
  "language_info": {
   "codemirror_mode": "text/x-scala",
   "file_extension": ".scala",
   "mimetype": "text/x-scala",
   "name": "scala211",
   "nbconvert_exporter": "script",
   "pygments_lexer": "scala",
   "version": "2.11.8"
  }
 },
 "nbformat": 4,
 "nbformat_minor": 1
}
