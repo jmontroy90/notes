{
 "cells": [
  {
   "cell_type": "markdown",
   "metadata": {},
   "source": [
    "# Chapter 3: Automatically deriving type class instances\n",
    "\n",
    "Reviewing type classes and how shapeless takes them on"
   ]
  },
  {
   "cell_type": "markdown",
   "metadata": {},
   "source": [
    "Type classes are usually patterned in Scala with implicits, which I think are a bit intimidating and clunky at first.\n",
    "\n",
    "They allow you to define some generic behavior across a whole bunch of types - what advantages does this have over a class hierarchy? Can you combine the two?"
   ]
  },
  {
   "cell_type": "code",
   "execution_count": 3,
   "metadata": {
    "collapsed": false
   },
   "outputs": [
    {
     "data": {
      "text/plain": [
       "defined \u001b[32mtrait\u001b[39m \u001b[36mCsvEncoder\u001b[39m\n",
       "defined \u001b[32mclass\u001b[39m \u001b[36mEmployee\u001b[39m\n",
       "\u001b[36memployeeEncoder\u001b[39m: \u001b[32mwrapper\u001b[39m.\u001b[32mwrapper\u001b[39m.\u001b[32mCsvEncoder\u001b[39m[\u001b[32mwrapper\u001b[39m.\u001b[32mwrapper\u001b[39m.\u001b[32mEmployee\u001b[39m] = $sess.cmd2Wrapper$Helper$$anon$1@6b0dc775\n",
       "defined \u001b[32mfunction\u001b[39m \u001b[36mwriteCsv\u001b[39m\n",
       "\u001b[36memployees\u001b[39m: \u001b[32mList\u001b[39m[\u001b[32mwrapper\u001b[39m.\u001b[32mwrapper\u001b[39m.\u001b[32mEmployee\u001b[39m] = \u001b[33mList\u001b[39m(\n",
       "  \u001b[33mEmployee\u001b[39m(\u001b[32m\"Bill\"\u001b[39m, \u001b[32m1\u001b[39m, \u001b[32mtrue\u001b[39m),\n",
       "  \u001b[33mEmployee\u001b[39m(\u001b[32m\"Peter\"\u001b[39m, \u001b[32m2\u001b[39m, \u001b[32mfalse\u001b[39m),\n",
       "  \u001b[33mEmployee\u001b[39m(\u001b[32m\"Milton\"\u001b[39m, \u001b[32m3\u001b[39m, \u001b[32mfalse\u001b[39m)\n",
       ")\n",
       "\u001b[36mres2_5\u001b[39m: \u001b[32mString\u001b[39m = \u001b[32m\"\"\"\n",
       "Bill,1,yes\n",
       "Peter,2,no\n",
       "Milton,3,no\n",
       "\"\"\"\u001b[39m"
      ]
     },
     "execution_count": 3,
     "metadata": {},
     "output_type": "execute_result"
    }
   ],
   "source": [
    "// define some generic behavior in a trait\n",
    "// here, take some type A and return a list of strings, ready to be written to a CSV\n",
    "trait CsvEncoder[A] {\n",
    "    def encode(value: A): List[String]\n",
    "}\n",
    "\n",
    "// now, for a given type, you need an implicit encoder instance for that type!\n",
    "case class Employee(name: String, number: Int, manager: Boolean)\n",
    "\n",
    "implicit val employeeEncoder: CsvEncoder[Employee] =\n",
    "  new CsvEncoder[Employee] {\n",
    "    def encode(e: Employee): List[String] =\n",
    "      List(\n",
    "        e.name,\n",
    "        e.number.toString,\n",
    "        if(e.manager) \"yes\" else \"no\"\n",
    ") }\n",
    "\n",
    "// add to that an entry point for the compiler, and you're good to go!\n",
    "def writeCsv[A](values: List[A])(implicit enc: CsvEncoder[A]): String =\n",
    "    values.map(value => enc.encode(value).mkString(\",\")).mkString(\"\\n\")\n",
    "\n",
    "val employees: List[Employee] = List(\n",
    "  Employee(\"Bill\", 1, true),\n",
    "  Employee(\"Peter\", 2, false),\n",
    "  Employee(\"Milton\", 3, false)\n",
    ")\n",
    "\n",
    "writeCsv(employees)"
   ]
  },
  {
   "cell_type": "markdown",
   "metadata": {},
   "source": [
    "Okay, cool. But now we need an encoder instance for every single type we want. For base types this might seem okay, but if you've got a union type like a List[(Employee,Person)], we don't want to have to write a new encoder for this if we've already got encoders for Employee and Person!"
   ]
  },
  {
   "cell_type": "code",
   "execution_count": null,
   "metadata": {
    "collapsed": true
   },
   "outputs": [],
   "source": [
    "// here's one workaround - define how types are combined with a higher-order function!\n",
    "implicit def pairEncoder[A, B](implicit aEncoder: CsvEncoder[A], bEncoder: CsvEncoder[B]): CsvEncoder[(A, B)] =\n",
    "  new CsvEncoder[(A, B)] {\n",
    "    def encode(pair: (A, B)): List[String] = {\n",
    "      val (a, b) = pair\n",
    "      aEncoder.encode(a) ++ bEncoder.encode(b)\n",
    "}}"
   ]
  },
  {
   "cell_type": "markdown",
   "metadata": {},
   "source": [
    "So that defines a new CsvEncoder that (with the map above) takes a tuple of two types, and uses their bases decoder instances to encode.\n",
    "\n",
    "This is powerful because you still just call writeCsv on your List[(A,B)], and the implicit chain goes:\n",
    "\n",
    "writeCsv \n",
    "\n",
    "    -> enc.encode \n",
    "\n",
    "    -> \"Do I have an encoder instance in scope for this type A?\"\n",
    "\n",
    "    -> \"Oh! It's two types, A and B! Well, here's a pairEncoder whose signature matches the two-type encode I have!\n",
    "   \n",
    "    -> \"Hi, I'm pairEncoder. I now need CsvEncoder methods for types A and B. Got them for me?\"\n",
    "   \n",
    "    -> \"Yes indeed! Now pairEncoder is actually \"called\" with the proper implicits in scope and passed in.\""
   ]
  },
  {
   "cell_type": "markdown",
   "metadata": {},
   "source": [
    "Okay, great. This is powerful and cool, albeit confusing at first. But we have to craft all our instances by hand! Is there a better way, shapeless?"
   ]
  },
  {
   "cell_type": "code",
   "execution_count": null,
   "metadata": {
    "collapsed": true
   },
   "outputs": [],
   "source": []
  }
 ],
 "metadata": {
  "kernelspec": {
   "display_name": "Scala",
   "language": "scala",
   "name": "scala"
  },
  "language_info": {
   "codemirror_mode": "text/x-scala",
   "file_extension": ".scala",
   "mimetype": "text/x-scala",
   "name": "scala211",
   "nbconvert_exporter": "script",
   "pygments_lexer": "scala",
   "version": "2.11.8"
  }
 },
 "nbformat": 4,
 "nbformat_minor": 1
}
